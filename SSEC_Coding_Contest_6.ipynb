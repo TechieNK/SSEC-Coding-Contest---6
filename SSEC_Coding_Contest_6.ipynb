{
  "nbformat": 4,
  "nbformat_minor": 0,
  "metadata": {
    "colab": {
      "name": "SSEC Coding Contest - 6.ipynb",
      "provenance": [],
      "collapsed_sections": []
    },
    "kernelspec": {
      "name": "python3",
      "display_name": "Python 3"
    }
  },
  "cells": [
    {
      "cell_type": "code",
      "metadata": {
        "colab": {
          "base_uri": "https://localhost:8080/",
          "height": 154
        },
        "id": "xGoFSGAN5Rv1",
        "outputId": "bb97475e-6869-4ccb-ffd7-233c26df2f6d"
      },
      "source": [
        "a = []\r\n",
        "for i in range(int(input())):\r\n",
        "  a.append(input())\r\n",
        "for i in a:\r\n",
        "  if len(i)!=10 or i[0]=='0' or i<'1000000000':\r\n",
        "    print(\"NO\")\r\n",
        "  else:\r\n",
        "    print(\"YES\")"
      ],
      "execution_count": null,
      "outputs": [
        {
          "output_type": "stream",
          "text": [
            "3\n",
            "1234567890\n",
            "0123456789\n",
            "0123456.87\n",
            "YES\n",
            "NO\n",
            "NO\n"
          ],
          "name": "stdout"
        },
        {
          "output_type": "execute_result",
          "data": {
            "application/vnd.google.colaboratory.intrinsic+json": {
              "type": "string"
            },
            "text/plain": [
              "'\\n3\\n1234567890\\n0123456789\\n0123456.87\\n'"
            ]
          },
          "metadata": {
            "tags": []
          },
          "execution_count": 9
        }
      ]
    },
    {
      "cell_type": "code",
      "metadata": {
        "colab": {
          "base_uri": "https://localhost:8080/"
        },
        "id": "UgO5yxShHQkY",
        "outputId": "9c521dc6-3399-4b8e-ce99-fb98da53dc43"
      },
      "source": [
        "def fun(a,b,c):\r\n",
        "  for i in range(len(a)):\r\n",
        "    if a[i]==b and c == 0:\r\n",
        "      return i+1\r\n",
        "    if a[i]==b and c != 0:\r\n",
        "      c-=1\r\n",
        "for i in range(int(input())):\r\n",
        "  qst=input()\r\n",
        "  string = qst.split()\r\n",
        "  sorted_string=[]\r\n",
        "  for i in range(len(string)):\r\n",
        "    sorted_string.append(str(''.join(sorted(string[i]))))\r\n",
        "  st = \"\"\r\n",
        "  for i in sorted_string:\r\n",
        "    st+=i+\" \"\r\n",
        "  st.strip()\r\n",
        "  print(st)\r\n",
        "  count=0\r\n",
        "  k=0\r\n",
        "  for i in range(len(st)):\r\n",
        "    if st[i]!=\" \":\r\n",
        "      if i!=0 and st[i]==st[i-1]:\r\n",
        "        count+=1\r\n",
        "      else:\r\n",
        "        count=0\r\n",
        "      print(fun(string[k],st[i],count), end=\"\")\r\n",
        "    else:\r\n",
        "      print(\" \",end=\"\")\r\n",
        "      k+=1"
      ],
      "execution_count": null,
      "outputs": [
        {
          "output_type": "stream",
          "text": [
            "1\n",
            "Perseverance vs persistence\n",
            "Paceeeenrrsv sv ceeeinprsst \n",
            "191125712103846 21 1028115913467 "
          ],
          "name": "stdout"
        }
      ]
    }
  ]
}